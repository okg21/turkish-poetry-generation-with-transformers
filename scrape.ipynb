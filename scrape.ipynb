{
 "cells": [
  {
   "cell_type": "code",
   "execution_count": 1,
   "metadata": {},
   "outputs": [],
   "source": [
    "import wget\n",
    "import os\n",
    "from html import unescape\n",
    "import pandas as pd"
   ]
  },
  {
   "cell_type": "code",
   "execution_count": null,
   "metadata": {},
   "outputs": [],
   "source": [
    "filename = wget.download(url)\n",
    "text_file = open('download.wget', 'r')\n",
    "text = unescape(text_file.read())\n",
    "poem = text.split('<div class=\"pd-text\">\\n')[1].split('<p>\\n')[1].split('</p>\\n')[0]\n",
    "poet = text.split('<div class=\"pb-title\">')[1].split('</h2>')[0].split('<h2>')[1]\n",
    "rating = int(text.split('<input id=\"siirPuaniDurumu\" name=\"siirPuaniDurumu\" type=\"hidden\" value=\"')[1].split('\"')[0])\n",
    "title = text.split('<div class=\"pd-title-a\">')[1].split('</h3>')[0].split('<h3>')[1]\n",
    "id = int(text.split('url = \"/Siirler/_SiirYorumEkle\";')[1].split('\";')[0].split('\"')[1])"
   ]
  },
  {
   "cell_type": "code",
   "execution_count": 15,
   "metadata": {},
   "outputs": [],
   "source": [
    "def expand_data(df, count):\n",
    "    url = 'https://www.antoloji.com/siir/rastgele/'\n",
    "    while(count > 0):\n",
    "        try:\n",
    "            filename = wget.download(url)\n",
    "        except:\n",
    "            df.to_csv('poems.csv', index=False)\n",
    "            return\n",
    "        #read text file\n",
    "        text_file = open('download.wget', 'r')\n",
    "        text = unescape(text_file.read())\n",
    "        os.remove(\"download.wget\")\n",
    "        try:\n",
    "            poem = text.split('<div class=\"pd-text\">\\n')[1].split('<p>\\n')[1].split('</p>\\n')[0]\n",
    "        except:\n",
    "            poem = None\n",
    "        #poet \n",
    "            #<div class=\"pb-title\">\n",
    "            #<a href=\"/fazil-husnu-daglarca/\"> <h2>Fazıl H&#252;sn&#252; Dağlarca</h2> </a>\n",
    "            #</div>\n",
    "            #<div class=\"pb-desc\">\n",
    "            #<div class=\"pb-date\">\n",
    "        try:\n",
    "            poet= text.split('<div class=\"pb-title\">')[1].split('</h2>')[0].split('<h2>')[1]\n",
    "        except:\n",
    "            poet = None\n",
    "        #rating <input id=\"siirPuaniDurumu\" name=\"siirPuaniDurumu\" type=\"hidden\" value=\"8\">\n",
    "        try:\n",
    "            rating = int(text.split('<input id=\"siirPuaniDurumu\" name=\"siirPuaniDurumu\" type=\"hidden\" value=\"')[1].split('\"')[0])\n",
    "        except:\n",
    "            rating = None \n",
    "        #title\n",
    "        #    <div class=\"poem-detail box\">\n",
    "        #   <div class=\"pd-title\">\n",
    "        #   <div class=\"pd-title-a\">\n",
    "        #   <a href=\"/kainatin-aksam-yoklamasi-siiri/\"><h3>K&#226;inatın Akşam Yoklaması</h3></a>\n",
    "        #   </div>\n",
    "        #   </div>\n",
    "        #   <div class=\"pd-title video-closed\">\n",
    "        #   </div>\n",
    "        try:\n",
    "            title = text.split('<div class=\"pd-title-a\">')[1].split('</h3>')[0].split('<h3>')[1]\n",
    "        except:\n",
    "            title = None\n",
    "        try: \n",
    "            id = int(text.split('url = \"/Siirler/_SiirYorumEkle\";')[1].split('\";')[0].split('\"')[1])\n",
    "        except:\n",
    "            id = None\n",
    "            \n",
    "        #create entry\n",
    "        entry = {'poem': poem, 'poet': poet, 'rating': rating, 'title': title, 'id': id}\n",
    "        #append to dataframe if df does not contain an entry with id\n",
    "        if df.loc[df['id'] == id].empty:\n",
    "            df = df.append(entry, ignore_index=True)\n",
    "            count-=1\n",
    "    #save dataframe to csv\n",
    "    df.to_csv('poems.csv', index=False)\n",
    "    return df"
   ]
  },
  {
   "cell_type": "code",
   "execution_count": 13,
   "metadata": {},
   "outputs": [],
   "source": [
    "import pandas as pd\n",
    "df = pd.read_csv('poems.csv')\n",
    "df = expand_data(df, 10)"
   ]
  },
  {
   "cell_type": "code",
   "execution_count": 14,
   "metadata": {},
   "outputs": [
    {
     "data": {
      "text/plain": [
       "id        4858\n",
       "title     4624\n",
       "poet       255\n",
       "rating       9\n",
       "poem      4883\n",
       "dtype: int64"
      ]
     },
     "execution_count": 14,
     "metadata": {},
     "output_type": "execute_result"
    }
   ],
   "source": [
    "df = pd.read_csv('poems.csv')\n",
    "df.nunique()"
   ]
  },
  {
   "cell_type": "code",
   "execution_count": null,
   "metadata": {},
   "outputs": [],
   "source": []
  }
 ],
 "metadata": {
  "kernelspec": {
   "display_name": "Python 3.9.7 ('base')",
   "language": "python",
   "name": "python3"
  },
  "language_info": {
   "codemirror_mode": {
    "name": "ipython",
    "version": 3
   },
   "file_extension": ".py",
   "mimetype": "text/x-python",
   "name": "python",
   "nbconvert_exporter": "python",
   "pygments_lexer": "ipython3",
   "version": "3.9.7"
  },
  "orig_nbformat": 4,
  "vscode": {
   "interpreter": {
    "hash": "9af4446fad66d067ca836c526b5435bebca4ae47c9253ff6e89f5714e1d5c487"
   }
  }
 },
 "nbformat": 4,
 "nbformat_minor": 2
}
